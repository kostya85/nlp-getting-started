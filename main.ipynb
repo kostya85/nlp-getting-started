{
  "cells": [
    {
      "cell_type": "code",
      "execution_count": 1,
      "metadata": {
        "colab": {
          "base_uri": "https://localhost:8080/"
        },
        "id": "EDFah4GAvXAT",
        "outputId": "dc69b9c9-bfd8-4a75-f5a6-a75e1eabe0c7"
      },
      "outputs": [
        {
          "output_type": "stream",
          "name": "stdout",
          "text": [
            "Mounted at /content/gdrive\n",
            "gdrive\tsample_data\n"
          ]
        }
      ],
      "source": [
        "from google.colab import drive\n",
        "drive.mount('/content/gdrive')\n",
        "!ls"
      ]
    },
    {
      "cell_type": "code",
      "execution_count": 2,
      "metadata": {
        "colab": {
          "base_uri": "https://localhost:8080/"
        },
        "id": "TXVPebU-vquB",
        "outputId": "13b231bc-463c-4a90-d4e0-34c8c3b8e6e6"
      },
      "outputs": [
        {
          "output_type": "stream",
          "name": "stdout",
          "text": [
            "/content/gdrive/My Drive/nlp\n",
            "test.csv  train.csv\n"
          ]
        }
      ],
      "source": [
        "%cd gdrive/My\\ Drive/nlp/\n",
        "!ls"
      ]
    },
    {
      "cell_type": "code",
      "execution_count": 3,
      "metadata": {
        "id": "izXcCEzIweNm"
      },
      "outputs": [],
      "source": [
        "# %pip install nltk wordcloud\n",
        "import re\n",
        "import numpy as np\n",
        "import pandas as pd \n",
        "import matplotlib.pyplot as plt\n",
        "import matplotlib\n",
        "import matplotlib.patches as mpatches\n",
        "import nltk\n",
        "from sklearn import feature_extraction, linear_model, model_selection, preprocessing\n",
        "from sklearn.feature_extraction.text import TfidfVectorizer, CountVectorizer\n",
        "from sklearn.decomposition import PCA, TruncatedSVD\n",
        "from sklearn.linear_model import LogisticRegression\n",
        "from sklearn.model_selection import KFold\n",
        "from sklearn.metrics import roc_auc_score, recall_score\n",
        "from scipy.sparse import hstack\n",
        "from wordcloud import WordCloud\n",
        "from nltk.stem import WordNetLemmatizer\n",
        "from nltk.tokenize import word_tokenize\n",
        "from nltk.corpus import stopwords"
      ]
    },
    {
      "cell_type": "code",
      "execution_count": 4,
      "metadata": {
        "colab": {
          "base_uri": "https://localhost:8080/"
        },
        "id": "k6_0j_VPUcn6",
        "outputId": "a00e4d3d-8468-4e3d-9793-ec4d85d832a0"
      },
      "outputs": [
        {
          "output_type": "stream",
          "name": "stderr",
          "text": [
            "[nltk_data] Downloading package stopwords to /root/nltk_data...\n",
            "[nltk_data]   Unzipping corpora/stopwords.zip.\n",
            "[nltk_data] Downloading package wordnet to /root/nltk_data...\n",
            "[nltk_data] Downloading package omw-1.4 to /root/nltk_data...\n",
            "[nltk_data] Downloading package punkt to /root/nltk_data...\n",
            "[nltk_data]   Unzipping tokenizers/punkt.zip.\n"
          ]
        },
        {
          "output_type": "execute_result",
          "data": {
            "text/plain": [
              "True"
            ]
          },
          "metadata": {},
          "execution_count": 4
        }
      ],
      "source": [
        "nltk.download('stopwords')\n",
        "nltk.download('wordnet')\n",
        "nltk.download('omw-1.4')\n",
        "nltk.download('punkt')"
      ]
    },
    {
      "cell_type": "code",
      "execution_count": 5,
      "metadata": {
        "id": "K-AnigWgwi3Z"
      },
      "outputs": [],
      "source": [
        "df_train = pd.read_csv('train.csv').fillna(' ')\n",
        "df_test = pd.read_csv('test.csv').fillna(' ')\n",
        "\n",
        "df_train.keyword = df_train.keyword.str.replace(\"%20\", \" \")\n",
        "df_test.keyword = df_test.keyword.str.replace(\"%20\", \" \")\n"
      ]
    },
    {
      "cell_type": "markdown",
      "metadata": {
        "id": "sNw5rT3eVMGn"
      },
      "source": [
        "# Data preprocessing"
      ]
    },
    {
      "cell_type": "code",
      "execution_count": 6,
      "metadata": {
        "id": "0PHTQEZkVNAK"
      },
      "outputs": [],
      "source": [
        "df_train.text = df_train.text.str.encode('ascii', 'ignore').str.decode(\"ascii\")\n",
        "df_test.text = df_test.text.str.encode('ascii', 'ignore').str.decode(\"ascii\")\n",
        "df_train.text = df_train.text.apply(lambda x: ' '.join(re.sub(\"(@[A-Za-z0-9]+)|([^0-9A-Za-z \\t])|(\\w+:\\/\\/\\S+)\",\" \",x).split()))\n",
        "df_test.text = df_test.text.apply(lambda x: ' '.join(re.sub(\"(@[A-Za-z0-9]+)|([^0-9A-Za-z \\t])|(\\w+:\\/\\/\\S+)\",\" \",x).split()))"
      ]
    },
    {
      "cell_type": "code",
      "execution_count": 7,
      "metadata": {
        "id": "D2pRMMtFVRx0"
      },
      "outputs": [],
      "source": [
        "def preprocess_news(df):\n",
        "    stops = set(stopwords.words('english'))\n",
        "    new_corpus=[]\n",
        "\n",
        "    lem=WordNetLemmatizer()\n",
        "    for text in df[\"text\"]:\n",
        "        words=[w for w in word_tokenize(text) if (w not in stops)]\n",
        "\n",
        "        words=[lem.lemmatize(w) for w in words]\n",
        "\n",
        "        new_corpus += words\n",
        "    return set(new_corpus)"
      ]
    },
    {
      "cell_type": "code",
      "execution_count": 8,
      "metadata": {
        "id": "PZdIyisTVVuy"
      },
      "outputs": [],
      "source": [
        "corpus = preprocess_news(df_train)"
      ]
    },
    {
      "cell_type": "code",
      "execution_count": 9,
      "metadata": {
        "colab": {
          "base_uri": "https://localhost:8080/"
        },
        "id": "SSSRd7gmVVlD",
        "outputId": "5caebd2b-6c8e-42de-eb7c-69698da92bb2"
      },
      "outputs": [
        {
          "output_type": "execute_result",
          "data": {
            "text/plain": [
              "{'Size',\n",
              " 'Iraq',\n",
              " 'brook',\n",
              " 'Beginnings',\n",
              " 'Mounts',\n",
              " 'FDNY',\n",
              " 'Rigga',\n",
              " 'rifle',\n",
              " 'LAUNCH',\n",
              " 'Objects',\n",
              " 'losing',\n",
              " 'Lindsay',\n",
              " 'Fights',\n",
              " 'hiker',\n",
              " 'basically',\n",
              " 'warming',\n",
              " 'Passenger',\n",
              " 'society',\n",
              " 'ARMAGEDDON',\n",
              " 'largest',\n",
              " 'Indiegogo',\n",
              " 'Pain',\n",
              " 'Choking',\n",
              " 'Suh',\n",
              " 'suspense',\n",
              " 'FOLLOWING',\n",
              " 'McCains',\n",
              " 'UVoPWZ',\n",
              " 'CONNECTS',\n",
              " 'Ahrar',\n",
              " 'diamond',\n",
              " 'Hunterston',\n",
              " 'PapiiChampoo',\n",
              " 'quiz',\n",
              " '500th',\n",
              " 'VideoVeranoMTV',\n",
              " 'ate',\n",
              " 'WNW',\n",
              " 'TROUBLE',\n",
              " 'Butt',\n",
              " 'Jen',\n",
              " 'unloads',\n",
              " 'inmate',\n",
              " 'germ',\n",
              " 'scuf',\n",
              " 'para',\n",
              " 'quarterstaff',\n",
              " 'Muzzamil',\n",
              " 'holland',\n",
              " 'finalise',\n",
              " 'competitiveness',\n",
              " 'Superhero',\n",
              " 'Priest',\n",
              " 'STEPS',\n",
              " 'RSF',\n",
              " 'workd',\n",
              " 'mumbling',\n",
              " 'BOX',\n",
              " 'Diving',\n",
              " 'carriage',\n",
              " 'Newyear',\n",
              " 'Crusty',\n",
              " 'Editor',\n",
              " 'LA',\n",
              " 'Thread',\n",
              " 'estimate',\n",
              " 'SIDJSJDJEKDJSKDJD',\n",
              " 'terror',\n",
              " 'Firefighter',\n",
              " 'Intensifies',\n",
              " 'improved',\n",
              " 'splifs',\n",
              " 'attendance',\n",
              " 'blackmail',\n",
              " 'Appraisal',\n",
              " 'woken',\n",
              " 'pound',\n",
              " 'Frog',\n",
              " 'incitement',\n",
              " 'Saw',\n",
              " 'FUEL',\n",
              " 'Central',\n",
              " 'Works',\n",
              " 'JadeHelm15',\n",
              " 'plotted',\n",
              " 'Allergic',\n",
              " 'exp0sed',\n",
              " 'BLUE',\n",
              " 'Dangerous',\n",
              " 'raging',\n",
              " 'soundcloud',\n",
              " 'activated',\n",
              " 'Grabbers',\n",
              " 'MH370',\n",
              " 'DHS',\n",
              " 'system',\n",
              " 'WisdomWed',\n",
              " 'Brit',\n",
              " 'Wrinkled',\n",
              " 'Rejected',\n",
              " 'SigAlert',\n",
              " 'safe',\n",
              " 'HO',\n",
              " 'hfo',\n",
              " 'yycstorm',\n",
              " 'personally',\n",
              " 'Katrina',\n",
              " 'revolution',\n",
              " 'Coaches',\n",
              " 'storm',\n",
              " 'Ted',\n",
              " 'Goulburn',\n",
              " 'suddenly',\n",
              " 'Africa',\n",
              " 'BALL',\n",
              " 'thought',\n",
              " 'hearing',\n",
              " 'cage',\n",
              " 'Turbine',\n",
              " 'Nort',\n",
              " 'goodnight',\n",
              " 'Namekians',\n",
              " 'teacher',\n",
              " 'Tapas',\n",
              " 'Fuel',\n",
              " 'candylit',\n",
              " 'Plague',\n",
              " 'seemeth',\n",
              " 'BayArea',\n",
              " 'NotificationsU',\n",
              " 'mute',\n",
              " 'RB',\n",
              " 'tyler',\n",
              " '198',\n",
              " 'midweek',\n",
              " 'SK1',\n",
              " 'TalkRadio',\n",
              " '777',\n",
              " 'AT',\n",
              " 'Turkey',\n",
              " 'removed',\n",
              " 'Honestly',\n",
              " '7P',\n",
              " 'elevator',\n",
              " 'Everybody',\n",
              " 'Bel',\n",
              " 'ENOUGH',\n",
              " 'CROSED',\n",
              " 'buffet',\n",
              " 'spiderweb',\n",
              " 'Element',\n",
              " 'bundled',\n",
              " 'Centipede',\n",
              " 'Person',\n",
              " 'capeann',\n",
              " 'coated',\n",
              " 'threaten',\n",
              " 'fatally',\n",
              " 'risk',\n",
              " 'terrorism',\n",
              " 'iPhoto',\n",
              " 'Gamma',\n",
              " 'CS6',\n",
              " 'Roof',\n",
              " 'Leo',\n",
              " 'Caption',\n",
              " 'Alerts',\n",
              " 'Pine',\n",
              " 'face',\n",
              " 'Convertible',\n",
              " 'Creation',\n",
              " 'acoustic',\n",
              " 'Action',\n",
              " 'paranoico',\n",
              " 'tootrue',\n",
              " 'mv',\n",
              " 'I580',\n",
              " 'Bieber',\n",
              " 'Stretcher',\n",
              " 'Can',\n",
              " 'Houses',\n",
              " 'RIVEEEEEER',\n",
              " 'extra',\n",
              " 'wa',\n",
              " 'WholeTeam3',\n",
              " 'techniqu',\n",
              " 'Cilla',\n",
              " 'cycling',\n",
              " 'Downfall',\n",
              " 'gymtime',\n",
              " 'Addicts',\n",
              " 'stormchase',\n",
              " 'nasty',\n",
              " 'Experts',\n",
              " 'scream',\n",
              " 'Decals',\n",
              " 'amicospizzato',\n",
              " 'Beach',\n",
              " 'preparedness',\n",
              " 'contig',\n",
              " 'nlwx',\n",
              " 'Iranian',\n",
              " 'Chernobyl',\n",
              " 'LOST',\n",
              " 'boycottBears',\n",
              " 'Allied',\n",
              " 'midget',\n",
              " 'Simpson',\n",
              " 'MusicVideo',\n",
              " '925',\n",
              " 'Troy',\n",
              " 'Potter',\n",
              " 'River',\n",
              " 'Tire',\n",
              " 'Doing',\n",
              " 'Va',\n",
              " 'grey',\n",
              " 'dell',\n",
              " 'Onion',\n",
              " 'SPREE',\n",
              " 'Taxi',\n",
              " 'Jasmines',\n",
              " 'MGS2',\n",
              " 'Burglary',\n",
              " 'Personal',\n",
              " 'AFP',\n",
              " 'literally',\n",
              " 'define',\n",
              " 'stew',\n",
              " 'Gabon',\n",
              " 'Mon',\n",
              " 'science',\n",
              " 'Shar',\n",
              " 'systematic',\n",
              " 'WEAPON',\n",
              " 'flipped',\n",
              " 'Ray',\n",
              " 'idiot',\n",
              " 'arwx',\n",
              " 'Americas',\n",
              " 'importance',\n",
              " 'regard',\n",
              " 'mold',\n",
              " 'effect',\n",
              " 'OnlineA',\n",
              " 'Answers',\n",
              " 'battlefield',\n",
              " 'Violence',\n",
              " '103',\n",
              " 'GeorgeCole',\n",
              " 'housed',\n",
              " 'mankind',\n",
              " 'Dates',\n",
              " 'FEAR',\n",
              " 'Balance',\n",
              " 'abandoning',\n",
              " 'benstracy',\n",
              " 'fragrance',\n",
              " 'gesture',\n",
              " 'Rainfall',\n",
              " 'Birmingham',\n",
              " 'CoL',\n",
              " 'Last',\n",
              " 'cyclone',\n",
              " 'TMS7',\n",
              " 'shit',\n",
              " 'obtaing',\n",
              " 'PTSDchat',\n",
              " 'CA',\n",
              " 'temptation',\n",
              " '800',\n",
              " 'Windows',\n",
              " '05th',\n",
              " 'EP18',\n",
              " 'Read',\n",
              " '53inch',\n",
              " 'gritty',\n",
              " 'ddnt',\n",
              " 'reacted',\n",
              " 'Fuck',\n",
              " 'moonlight',\n",
              " 'Groom',\n",
              " 'Glaucoma',\n",
              " 'locksmith',\n",
              " 'peep',\n",
              " 'RULES',\n",
              " 'GUYS',\n",
              " 'reporting',\n",
              " 'forageSECRET',\n",
              " 'Soul',\n",
              " 'Day',\n",
              " '300W',\n",
              " 'tampon',\n",
              " 'Kontrolled',\n",
              " 'citing',\n",
              " 'cannabis',\n",
              " 'Hickson',\n",
              " 'digital',\n",
              " 'nOxDV',\n",
              " 'Stats',\n",
              " 'TWITTER',\n",
              " 'FOXSportscom',\n",
              " 'USA',\n",
              " 'Hinatobot',\n",
              " 'Coronet',\n",
              " 'MUCH',\n",
              " 'Blind',\n",
              " 'gold',\n",
              " 'CRUZ',\n",
              " 'putin',\n",
              " 'bebacksoon',\n",
              " 'MwjCdk',\n",
              " 'PS2',\n",
              " 'Jeff',\n",
              " 'Comparison',\n",
              " 'encouraged',\n",
              " 'nades',\n",
              " 'butcher',\n",
              " 'Decoration',\n",
              " 'Carry',\n",
              " 'dumbass',\n",
              " 'threatens',\n",
              " 'kick',\n",
              " 'TLVFaces',\n",
              " 'drive',\n",
              " 'Ban',\n",
              " 'ill',\n",
              " 'CITIZENS',\n",
              " 'rant',\n",
              " 'FantasticFour',\n",
              " 'Bright',\n",
              " 'leaked',\n",
              " '1940',\n",
              " 'billionaire',\n",
              " 'Catcher',\n",
              " '1986',\n",
              " 'FForecast',\n",
              " 'Suho',\n",
              " 'considering',\n",
              " 'Typography',\n",
              " 'rock',\n",
              " 'skull',\n",
              " 'generational',\n",
              " 'wipe',\n",
              " 'Siouxland',\n",
              " 'Fiona',\n",
              " 'touch',\n",
              " 'IDis',\n",
              " 'sized',\n",
              " 'ANY',\n",
              " 'droid',\n",
              " 'Costa',\n",
              " 'Experience',\n",
              " '30BST',\n",
              " 'magical',\n",
              " 'boyhaus',\n",
              " 'Easily',\n",
              " 'Commerce',\n",
              " 'Agnus',\n",
              " '1200',\n",
              " 'Brenas',\n",
              " 'med',\n",
              " 'packed',\n",
              " 'gimp',\n",
              " 'rating',\n",
              " 'discussion',\n",
              " 'self',\n",
              " 'penalty',\n",
              " 'fuckin',\n",
              " 'insult',\n",
              " 'improve',\n",
              " 'Hackers',\n",
              " 'happing',\n",
              " 'LITHIUM',\n",
              " 'Cake',\n",
              " 'WeLoveYouLouis',\n",
              " 'pbx',\n",
              " 'panty',\n",
              " 'Satellite',\n",
              " 'brigade',\n",
              " 'Arsonists',\n",
              " 'Quarantine',\n",
              " 'Heartbreak',\n",
              " 'Newsarama',\n",
              " 'Train',\n",
              " 'privacy',\n",
              " 'convention',\n",
              " 'gave',\n",
              " 'Australian',\n",
              " 'flip',\n",
              " 'far',\n",
              " 'hahahaha',\n",
              " 'ALOT',\n",
              " 'preaching',\n",
              " 'Conversations',\n",
              " 'slit',\n",
              " 'militarism',\n",
              " 'mumbai',\n",
              " 'Bid',\n",
              " 'defs',\n",
              " 'Image',\n",
              " 'goodness',\n",
              " 'puncture',\n",
              " 'teenager',\n",
              " 'wifi',\n",
              " 'persecution',\n",
              " 'overtime',\n",
              " 'hat',\n",
              " 'meme',\n",
              " 'nap',\n",
              " 'Riddler',\n",
              " 'price',\n",
              " 'installed',\n",
              " 'ptsdchat',\n",
              " 'Simmons',\n",
              " 'marijuana',\n",
              " 'pundit',\n",
              " 'SHEAR',\n",
              " 'Blacks',\n",
              " 'unfair',\n",
              " 'assault',\n",
              " 'although',\n",
              " 'status',\n",
              " 'OCNJ',\n",
              " 'Personalize',\n",
              " 'lakh',\n",
              " 'invzices',\n",
              " 'upstairs',\n",
              " 'neighbour',\n",
              " 'Rioting',\n",
              " 'tanz',\n",
              " 'Sanitizing',\n",
              " 'Memorial',\n",
              " 'fashionable',\n",
              " 'Runaway',\n",
              " 'Phalaborwa',\n",
              " '55436',\n",
              " '11',\n",
              " 'shadow',\n",
              " 'concur',\n",
              " 'Wut',\n",
              " 'wmata',\n",
              " 'DRob',\n",
              " 'MM',\n",
              " 'Roosevelt',\n",
              " 'Lolla',\n",
              " 'Andre',\n",
              " 'Formation',\n",
              " 'Gear',\n",
              " 'Swansea',\n",
              " 'occurred',\n",
              " 'Clapton',\n",
              " 'definitely',\n",
              " 'Trailheads',\n",
              " 'Bukidnon',\n",
              " 'Brakes',\n",
              " 'ransacked',\n",
              " 'Bedding',\n",
              " 'Bushman',\n",
              " 'Sees',\n",
              " 'Kennedy',\n",
              " 'Fact',\n",
              " 'festival',\n",
              " 'EDcXO',\n",
              " 'DON',\n",
              " 'modernized',\n",
              " 'Tunes',\n",
              " 'Nearly',\n",
              " 'Bali',\n",
              " 'Adjustable',\n",
              " '1935',\n",
              " 'spill',\n",
              " 'PS4',\n",
              " 'UglyPeople',\n",
              " 'therefore',\n",
              " 'meltdown',\n",
              " 'Jacksonville',\n",
              " 'Needed',\n",
              " 'India',\n",
              " 'mom',\n",
              " 'MiddleEast',\n",
              " 'Kick',\n",
              " 'Alliance',\n",
              " 'akxbskdn',\n",
              " 'V',\n",
              " 'CENTRE',\n",
              " 'thin',\n",
              " 'Park',\n",
              " 'NDA',\n",
              " 'accepte',\n",
              " 'Leicester',\n",
              " 'Gore',\n",
              " 'LAWS',\n",
              " 'provoke',\n",
              " 'tumble',\n",
              " 'SAD',\n",
              " 'Epic',\n",
              " 'gunfail',\n",
              " 'Ruins',\n",
              " 'blasted',\n",
              " 'tarmineta3',\n",
              " 'piracy',\n",
              " 'morrow',\n",
              " 'Kerry',\n",
              " 'Blevins',\n",
              " 'bin',\n",
              " 'Auto',\n",
              " 'negotiation',\n",
              " 'bodied',\n",
              " 'SEAN',\n",
              " 'mansion',\n",
              " 'Finds',\n",
              " 'fizzy',\n",
              " '662',\n",
              " 'heavy',\n",
              " 'unity',\n",
              " 'SUB',\n",
              " 'Results',\n",
              " 'Marine',\n",
              " 'WAS',\n",
              " 'casing',\n",
              " 'Year',\n",
              " 'UnFML',\n",
              " 'GLOBAL',\n",
              " 'crusty',\n",
              " 'Mmk',\n",
              " 'Sister',\n",
              " 'Gander',\n",
              " 'combo',\n",
              " 'warn',\n",
              " 'Mohammed',\n",
              " 'Heres',\n",
              " 'Texans',\n",
              " 'piece',\n",
              " 'airing',\n",
              " 'Suffield',\n",
              " 'Edna',\n",
              " 'BOTTLE',\n",
              " 'mhmmm',\n",
              " 'lPDkl',\n",
              " 'Begins',\n",
              " 'SONY',\n",
              " 'TubeStrike',\n",
              " 'slower',\n",
              " 'Greed',\n",
              " 'deejayempiresound',\n",
              " 'Ronald',\n",
              " 'capsize',\n",
              " 'azwx',\n",
              " 'angel',\n",
              " 'moderately',\n",
              " 'ci',\n",
              " 'generation',\n",
              " 'Reprises',\n",
              " 'Parenthood',\n",
              " 'Broadway',\n",
              " 'WOMEN',\n",
              " 'manslaughter',\n",
              " 'Baseball41',\n",
              " 'Hour',\n",
              " '61st',\n",
              " 'SCSeEstaPreparando',\n",
              " 'de',\n",
              " 'recalled',\n",
              " 'Directors',\n",
              " 'January',\n",
              " 'Nuclear',\n",
              " 'usagi',\n",
              " 'JetEngine',\n",
              " 'SMP',\n",
              " 'INTEAD',\n",
              " 'property',\n",
              " 'lashing',\n",
              " 'Abha',\n",
              " 'mental',\n",
              " 'sewing',\n",
              " 'Guardian',\n",
              " 'Fatal',\n",
              " 'debacle',\n",
              " 'hastle',\n",
              " 'Satchel',\n",
              " 'Towns',\n",
              " 'lowered',\n",
              " 'survived',\n",
              " 'stormtrooper',\n",
              " 'Pivot',\n",
              " 'exc',\n",
              " 'apart',\n",
              " 'happy',\n",
              " 'bump',\n",
              " 'effectiveness',\n",
              " 'Rape',\n",
              " 'fuckboy',\n",
              " 'Prompts',\n",
              " 'Replaced',\n",
              " 'exam',\n",
              " 'INTL',\n",
              " 'leather',\n",
              " 'Afrin',\n",
              " 'Gemstone',\n",
              " 'AUTOMATIC',\n",
              " 'socialist',\n",
              " 'Take',\n",
              " 'caution',\n",
              " 'picthis',\n",
              " 'mlm',\n",
              " 'lac',\n",
              " 'HAHA',\n",
              " 'sold',\n",
              " 'Sudans',\n",
              " 'bike',\n",
              " 'Disneys',\n",
              " 'Shaken',\n",
              " 'Class',\n",
              " 'Motorcyclist',\n",
              " '0880',\n",
              " 'thousand',\n",
              " 'alpha',\n",
              " 'nw',\n",
              " 'Few',\n",
              " 'say',\n",
              " 'company',\n",
              " 'Yahoo',\n",
              " 'Latina',\n",
              " 'excepting',\n",
              " 'FETTILOOTCH',\n",
              " 'Chief',\n",
              " 'Board',\n",
              " 'observed',\n",
              " 'Kind',\n",
              " 'buildingswe',\n",
              " 'Magazine',\n",
              " 'MIR',\n",
              " 'funny',\n",
              " 'Jewels',\n",
              " 'Deck',\n",
              " 'marketer',\n",
              " 'Parole',\n",
              " 'medicine',\n",
              " 'stupid',\n",
              " 'brown',\n",
              " 'mid',\n",
              " 'SONG',\n",
              " 'browsing',\n",
              " 'employee',\n",
              " 'PERFORATED',\n",
              " 'Data',\n",
              " 'takeoff',\n",
              " 'NBC',\n",
              " 'frothy',\n",
              " 'catastrophe',\n",
              " 'hopefully',\n",
              " 'Association',\n",
              " 'shoalstraffic',\n",
              " 'Redcliffe',\n",
              " 'leaking',\n",
              " 'make',\n",
              " 'chapter',\n",
              " 'Response',\n",
              " 'able',\n",
              " 'posted',\n",
              " 'miner',\n",
              " 'Remembrance',\n",
              " '41',\n",
              " 'brisk',\n",
              " 'Country',\n",
              " 'Asian',\n",
              " 'Therapy',\n",
              " 'NU',\n",
              " 'Rindou',\n",
              " 'Trois',\n",
              " 'TCH',\n",
              " 'vision',\n",
              " 'vacancy',\n",
              " 'Hurricane',\n",
              " '83',\n",
              " 'Boot',\n",
              " 'surrounded',\n",
              " 'purduee',\n",
              " 'behold',\n",
              " 'reopen',\n",
              " 'KAMON',\n",
              " 'uve',\n",
              " 'Tory',\n",
              " 'subject',\n",
              " 'specimen',\n",
              " 'receipt',\n",
              " 'BOTH',\n",
              " 'wHeRE',\n",
              " 'Reddit',\n",
              " 'eBay',\n",
              " 'Treatment',\n",
              " 'Isla',\n",
              " 'Curb',\n",
              " 'go',\n",
              " 'situ',\n",
              " 'TURN',\n",
              " 'Limit',\n",
              " 'used',\n",
              " 'loco',\n",
              " 'missing',\n",
              " 'mezcal',\n",
              " 'flurry',\n",
              " 'shitty',\n",
              " 'Part',\n",
              " 'Cranes',\n",
              " 'Predator',\n",
              " 'Thriller',\n",
              " 'ke',\n",
              " 'mixxtail',\n",
              " 'Wrap',\n",
              " 'Tacos',\n",
              " 'vulnerable',\n",
              " 'ovary',\n",
              " 'discovery',\n",
              " 'WhatsApp',\n",
              " 'FREYAS',\n",
              " 'In',\n",
              " 'JAPAN',\n",
              " 'nah',\n",
              " '1023',\n",
              " 'Enemies',\n",
              " 'workout',\n",
              " 'hotter',\n",
              " 'Serious',\n",
              " 'Wristband',\n",
              " 'Else',\n",
              " 'deep',\n",
              " 'dried',\n",
              " 'condenses',\n",
              " 'Reuters',\n",
              " 'cbcto',\n",
              " 'named',\n",
              " 'watch',\n",
              " 'fault',\n",
              " 'circus',\n",
              " 'Nomiya',\n",
              " 'total',\n",
              " 'squeeze',\n",
              " 'smh',\n",
              " 'Hogan',\n",
              " 'sport',\n",
              " 'STOP',\n",
              " 'drowning',\n",
              " 'panic',\n",
              " 'lyrically',\n",
              " 'Ed',\n",
              " 'struggle',\n",
              " 'Mountain',\n",
              " 'investigation',\n",
              " 'obedience',\n",
              " 'medal',\n",
              " 'Lucifer',\n",
              " 'Pars',\n",
              " 'Going',\n",
              " 'Montgomery',\n",
              " 'caaaaaall',\n",
              " 'sexuality',\n",
              " 'Trey',\n",
              " 'mainline',\n",
              " 'Boise',\n",
              " 'Brig',\n",
              " 'LaDo',\n",
              " 'hour',\n",
              " 'colluded',\n",
              " 'View',\n",
              " 'SoundCloud',\n",
              " '25',\n",
              " 'underway',\n",
              " 'fousey',\n",
              " 'Says',\n",
              " 'Fjords',\n",
              " 'Mateo',\n",
              " 'need',\n",
              " 'jewel',\n",
              " 'fantabulous',\n",
              " 'silver',\n",
              " 'Usami',\n",
              " 'thankfully',\n",
              " 'heartbeat',\n",
              " '6AUG',\n",
              " 'tlc',\n",
              " 'sliced',\n",
              " 'receives',\n",
              " 'Mason',\n",
              " 'Zionist',\n",
              " 'sincerely',\n",
              " 'misery',\n",
              " 'LungCancer',\n",
              " 'tat',\n",
              " 'bicep',\n",
              " 'Toilets',\n",
              " 'Locke',\n",
              " 'defensive',\n",
              " 'Growing',\n",
              " 'CALORIES',\n",
              " 'sizewell',\n",
              " 'ran',\n",
              " 'rapping',\n",
              " 'grab',\n",
              " 'according',\n",
              " 'moan',\n",
              " 'many',\n",
              " 'UNSTOPPABLE',\n",
              " 'pair',\n",
              " 'Rory',\n",
              " 'Francisco',\n",
              " 'signature',\n",
              " 'SJUBB',\n",
              " 'Someday',\n",
              " 'Whitbourne',\n",
              " 'auto',\n",
              " 'Pumper',\n",
              " 'CAR',\n",
              " 'MumbaiRiot92',\n",
              " 'Biggest',\n",
              " 'FAVORITES',\n",
              " 'Heroes',\n",
              " 'APD',\n",
              " 'jittering',\n",
              " 'Fish',\n",
              " 'guillermo',\n",
              " 'advanced',\n",
              " 'Supreme',\n",
              " 'NF',\n",
              " 'BORE',\n",
              " 'declined',\n",
              " 'Pelosi',\n",
              " 'EQ',\n",
              " 'pump',\n",
              " 'Stupid',\n",
              " 'whale',\n",
              " 'iFunny',\n",
              " 'couch',\n",
              " 'north',\n",
              " 'soldi',\n",
              " 'mo',\n",
              " 'applaud',\n",
              " 'Recovery',\n",
              " 'Columbia',\n",
              " 'throwing',\n",
              " 'Stacy',\n",
              " 'Aussie',\n",
              " 'Loans',\n",
              " 'Krefeld',\n",
              " 'totaling',\n",
              " 'nope',\n",
              " 'blowing',\n",
              " 'Islamist',\n",
              " 'Visting',\n",
              " 'Multiplayer',\n",
              " 'Reviews',\n",
              " 'pacquiao',\n",
              " 'muaytai',\n",
              " 'Goooooooo',\n",
              " 'LIFE',\n",
              " 'hoax',\n",
              " 'luv',\n",
              " 'Finna',\n",
              " 'Dependency',\n",
              " 'react',\n",
              " 'Tower',\n",
              " 'Tablet',\n",
              " 'Easy',\n",
              " 'Deglin',\n",
              " 'RIYADH',\n",
              " 'accustomed',\n",
              " '50ft',\n",
              " 'survey',\n",
              " 'Prime',\n",
              " 'HORNDALE',\n",
              " 'rioter',\n",
              " 'civilization',\n",
              " 'second',\n",
              " 'sophistication',\n",
              " '10000',\n",
              " 'inbetween',\n",
              " 'Madhya',\n",
              " 'Puncture',\n",
              " 'Mane',\n",
              " 'wired',\n",
              " 'Negara',\n",
              " 'theme',\n",
              " 'Thanks',\n",
              " 'MAC',\n",
              " 'Fingers',\n",
              " 'arrest',\n",
              " 'retweet',\n",
              " 'Eisenhower',\n",
              " '30p',\n",
              " 'br',\n",
              " 'STANDARD',\n",
              " 'checked',\n",
              " 'stopharper',\n",
              " 'ask',\n",
              " 'msica',\n",
              " 'micallef',\n",
              " 'According',\n",
              " '184',\n",
              " 'wew',\n",
              " 'chill',\n",
              " 'bouta',\n",
              " 'Innocent',\n",
              " 'Meeting',\n",
              " 'Southern',\n",
              " 'CBS29',\n",
              " 'cowx',\n",
              " '365disasters',\n",
              " 'LOOK',\n",
              " 'KashmirConflict',\n",
              " 'lizard',\n",
              " 'Overturns',\n",
              " 'Wahpeton',\n",
              " 'tends',\n",
              " 'stayed',\n",
              " 'Silverman',\n",
              " 'lion',\n",
              " 'Blizzard',\n",
              " 'crossed',\n",
              " 'heal',\n",
              " 'IranNuclearDeal',\n",
              " 'Care',\n",
              " 'rail',\n",
              " 'Snap',\n",
              " 'Osborn',\n",
              " 'responsible',\n",
              " 'revenge',\n",
              " 'Eighty',\n",
              " 'junk',\n",
              " 'DLC',\n",
              " 'crook',\n",
              " 'HtaRvrGLY',\n",
              " 'eu',\n",
              " 'calamity',\n",
              " 'slide',\n",
              " 'ouch',\n",
              " 'Cali',\n",
              " 'DU19',\n",
              " 'Philippines',\n",
              " 'mischief',\n",
              " 'electrocute',\n",
              " 'collaborating',\n",
              " 'HIM',\n",
              " 'sideline',\n",
              " 'unfortunemelody',\n",
              " 'Parliamentary',\n",
              " 'acted',\n",
              " 'competence',\n",
              " 'constantly',\n",
              " 'ABStorm',\n",
              " 'DIARIES',\n",
              " '8392',\n",
              " 'fox',\n",
              " 'Ep',\n",
              " 'EXPLODE',\n",
              " 'LUNGS',\n",
              " 'And',\n",
              " 'increasing',\n",
              " 'isnt',\n",
              " 'Sandra',\n",
              " 'SCREAMED',\n",
              " 'Event',\n",
              " 'Esteemed',\n",
              " 'Hiroshima70',\n",
              " 'Superman',\n",
              " 'SWOOPING',\n",
              " 'Sutherland',\n",
              " 'GLOBI',\n",
              " 'Shunichiro',\n",
              " 'Good',\n",
              " 'Ah',\n",
              " 'pagesHi',\n",
              " 'unsecured',\n",
              " 'besides',\n",
              " 'look',\n",
              " 'known',\n",
              " 'gum',\n",
              " 'soo',\n",
              " 'horse',\n",
              " 'Premier',\n",
              " 'namjoon',\n",
              " 'dust',\n",
              " 'bring',\n",
              " 'Warm',\n",
              " 'spouting',\n",
              " 'Summer',\n",
              " 'present',\n",
              " 'Taipei',\n",
              " 'Fecal',\n",
              " 'British',\n",
              " 'FFA',\n",
              " 'Che',\n",
              " 'win10',\n",
              " 'Proud',\n",
              " 'DEFENDANT',\n",
              " 'upgrade',\n",
              " 'Arlington',\n",
              " 'ASSOCIATED',\n",
              " 'baseman',\n",
              " 'Events',\n",
              " ...}"
            ]
          },
          "metadata": {},
          "execution_count": 9
        }
      ],
      "source": [
        "corpus #Unique words"
      ]
    },
    {
      "cell_type": "code",
      "execution_count": 10,
      "metadata": {
        "id": "EDhc7uzAVcWa"
      },
      "outputs": [],
      "source": [
        "def preprocess(text):\n",
        "    stops = set(stopwords.words('english'))\n",
        "\n",
        "    lem=WordNetLemmatizer()\n",
        "\n",
        "    words=[w for w in word_tokenize(text) if (w not in stops)]\n",
        "\n",
        "    words=[lem.lemmatize(w) for w in words]\n",
        "   \n",
        "    return words"
      ]
    },
    {
      "cell_type": "code",
      "execution_count": 11,
      "metadata": {
        "id": "X-1GD5jRVcOy"
      },
      "outputs": [],
      "source": [
        "df_train.text = df_train.text.apply(lambda x: ' '.join(preprocess(x)))\n",
        "df_test.text = df_test.text.apply(lambda x: ' '.join(preprocess(x)))"
      ]
    },
    {
      "cell_type": "markdown",
      "metadata": {
        "id": "83ADOzWx7fgO"
      },
      "source": [
        "В ходе подготовки данных каждое предложение было разбито на слова, произведено избавление от стоп-слов, лемматизация слов"
      ]
    },
    {
      "cell_type": "markdown",
      "metadata": {
        "id": "XTR-uvlP-x7B"
      },
      "source": [
        "# EDA"
      ]
    },
    {
      "cell_type": "markdown",
      "metadata": {
        "id": "aEGaPVsu_F-r"
      },
      "source": [
        "## Target and not target records count"
      ]
    },
    {
      "cell_type": "code",
      "execution_count": 12,
      "metadata": {
        "colab": {
          "base_uri": "https://localhost:8080/",
          "height": 109
        },
        "id": "93XBz-BV-0q6",
        "outputId": "3735ee0a-481e-4976-da4c-bfc65292b022"
      },
      "outputs": [
        {
          "output_type": "stream",
          "name": "stdout",
          "text": [
            "0    4342\n",
            "1    3271\n",
            "Name: target, dtype: int64\n"
          ]
        },
        {
          "output_type": "display_data",
          "data": {
            "text/plain": [
              "<Figure size 576x360 with 1 Axes>"
            ],
            "image/png": "[encoded data removed]"
          },
          "metadata": {
            "needs_background": "light"
          }
        }
      ],
      "source": [
        "plt.figure(figsize=(8,5))\n",
        "df_train['target'].value_counts().plot(kind='bar',color='green')\n",
        "plt.title('Распределение тренировочных данных по классам')\n",
        "plt.xlabel('Классы')\n",
        "plt.ylabel('Количество записей')\n",
        "print(df_train['target'].value_counts())"
      ]
    },
    {
      "cell_type": "markdown",
      "metadata": {
        "id": "SeDvz9jL_yUa"
      },
      "source": [
        "## Keywords statistics"
      ]
    },
    {
      "cell_type": "code",
      "execution_count": 13,
      "metadata": {
        "colab": {
          "base_uri": "https://localhost:8080/",
          "height": 531
        },
        "id": "fdZEdOxD_Lpi",
        "outputId": "77edba1b-6732-447c-8bd7-b82254f6630c"
      },
      "outputs": [
        {
          "output_type": "execute_result",
          "data": {
            "text/plain": [
              "<matplotlib.axes._subplots.AxesSubplot at 0x7f2e5cf3ba90>"
            ]
          },
          "metadata": {},
          "execution_count": 13
        },
        {
          "output_type": "display_data",
          "data": {
            "text/plain": [
              "<Figure size 576x576 with 1 Axes>"
            ],
            "image/png": "[encoded data removed]"
          },
          "metadata": {
            "needs_background": "light"
          }
        }
      ],
      "source": [
        "plt.figure(figsize=(8,8))\n",
        "plt.title('Распределение ключевых слов в тренировочных данных')\n",
        "plt.xlabel('Количество')\n",
        "plt.ylabel('Ключевые слова')\n",
        "df_train['keyword'].value_counts()[:20].plot(kind='barh',color='blue')"
      ]
    },
    {
      "cell_type": "markdown",
      "metadata": {
        "id": "ebLWX7LRAFVI"
      },
      "source": [
        "## Locations statistics"
      ]
    },
    {
      "cell_type": "code",
      "execution_count": 14,
      "metadata": {
        "colab": {
          "base_uri": "https://localhost:8080/",
          "height": 531
        },
        "id": "LLmpD6Dr_10X",
        "outputId": "a31c67ca-c882-4e95-a8f5-529899fb1e01"
      },
      "outputs": [
        {
          "output_type": "execute_result",
          "data": {
            "text/plain": [
              "<matplotlib.axes._subplots.AxesSubplot at 0x7f2e584ca410>"
            ]
          },
          "metadata": {},
          "execution_count": 14
        },
        {
          "output_type": "display_data",
          "data": {
            "text/plain": [
              "<Figure size 576x576 with 1 Axes>"
            ],
            "image/png": "[encoded data removed]"
          },
          "metadata": {
            "needs_background": "light"
          }
        }
      ],
      "source": [
        "plt.figure(figsize=(8,8))\n",
        "plt.title('Распределение по геолокации')\n",
        "plt.xlabel('Количество')\n",
        "plt.ylabel('Основные точки геолокации')\n",
        "df_train['location'].value_counts()[:20].plot(kind='barh',color='grey')"
      ]
    },
    {
      "cell_type": "markdown",
      "metadata": {
        "id": "demvSGZ77fgQ"
      },
      "source": [
        "По графику можно понять географию распределения твитов. Как мы видим из графика, наибольшее количество твитов были созданы без указанного местоположения"
      ]
    },
    {
      "cell_type": "markdown",
      "metadata": {
        "id": "snj9eNe1A_vc"
      },
      "source": [
        "## Disaster and Non Disaster tweets length"
      ]
    },
    {
      "cell_type": "code",
      "execution_count": 15,
      "metadata": {
        "colab": {
          "base_uri": "https://localhost:8080/",
          "height": 368
        },
        "id": "hsZhfRZGAozP",
        "outputId": "d7bf2277-4d85-4beb-a0f9-95338158927a"
      },
      "outputs": [
        {
          "output_type": "execute_result",
          "data": {
            "text/plain": [
              "Text(0, 0.5, 'Количество твитов')"
            ]
          },
          "metadata": {},
          "execution_count": 15
        },
        {
          "output_type": "display_data",
          "data": {
            "text/plain": [
              "<Figure size 1440x360 with 2 Axes>"
            ],
            "image/png": "[encoded data removed]"
          },
          "metadata": {
            "needs_background": "light"
          }
        }
      ],
      "source": [
        "tweet_dis = df_train[df_train['target']==1]\n",
        "tweet_ndis = df_train[df_train['target']==0]\n",
        "len_dis = tweet_dis.text.str.len()\n",
        "len_ndis = tweet_ndis.text.str.len()\n",
        "\n",
        "plt.figure(figsize=(20,5))\n",
        "plt.subplot(1,2,1)\n",
        "plt.hist(len_dis,color='orange')\n",
        "plt.grid()\n",
        "plt.title('Распределение по длине твитов, касающихся бедствий')\n",
        "plt.xlabel('Длина твита')\n",
        "plt.ylabel('Количество твитов')\n",
        "plt.subplot(1,2,2)\n",
        "plt.hist(len_ndis,color='yellow',)\n",
        "plt.grid()\n",
        "plt.title('Распределение по длине твитов, не касающихся бедствий')\n",
        "plt.xlabel('Длина твита')\n",
        "plt.ylabel('Количество твитов')"
      ]
    },
    {
      "cell_type": "markdown",
      "metadata": {
        "id": "Zr8RgrqZNZIF"
      },
      "source": [
        "## Disaster and Non Disaster word length"
      ]
    },
    {
      "cell_type": "code",
      "execution_count": 16,
      "metadata": {
        "colab": {
          "base_uri": "https://localhost:8080/",
          "height": 368
        },
        "id": "bLWyF040NX4W",
        "outputId": "e264c93e-4b7a-4711-a040-9ccd272239a1"
      },
      "outputs": [
        {
          "output_type": "execute_result",
          "data": {
            "text/plain": [
              "Text(0, 0.5, 'Количество слов')"
            ]
          },
          "metadata": {},
          "execution_count": 16
        },
        {
          "output_type": "display_data",
          "data": {
            "text/plain": [
              "<Figure size 1440x360 with 2 Axes>"
            ],
            "image/png": "[encoded data removed]"
          },
          "metadata": {
            "needs_background": "light"
          }
        }
      ],
      "source": [
        "words_dis = df_train[df_train['target']==1]['text'].str.split().map(lambda x:len(x))\n",
        "words_ndis = df_train[df_train['target']==0]['text'].str.split().map(lambda x:len(x))\n",
        "plt.figure(figsize=(20,5))\n",
        "plt.subplot(1,2,1)\n",
        "plt.hist(words_dis,color='blue')\n",
        "plt.grid()\n",
        "plt.title('Распределение длины слов в твитах, связанных с бедствиями')\n",
        "plt.xlabel('Длина слова')\n",
        "plt.ylabel('Количество слов')\n",
        "plt.subplot(1,2,2)\n",
        "plt.hist(words_ndis,color='orange',)\n",
        "plt.grid()\n",
        "plt.title('Распределение длины слов в твитах, не связанных с бедствиями')\n",
        "plt.xlabel('Длина слова')\n",
        "plt.ylabel('Количество слов')"
      ]
    },
    {
      "cell_type": "markdown",
      "metadata": {
        "id": "GlH_NmmF7fgS"
      },
      "source": [
        "В ходе составления графиков EDA были проанализированы такие колонки DataFrame, как распределение по геолокации, ключевым словам, является ли данный твит действительно сигналом о бедствии, также проанализированы длина предложений и слов в твитах. По анализу графика ключевых слов можно сделать вывод о наиболее часто встречающихся ключевых словах в твитах о бедствиях"
      ]
    },
    {
      "cell_type": "markdown",
      "metadata": {
        "id": "Ocbkz21PpU2G"
      },
      "source": [
        "# Cloud of words"
      ]
    },
    {
      "cell_type": "markdown",
      "metadata": {
        "id": "Qucc0H3T7fgT"
      },
      "source": [
        "Облако слов представляет собой изображение составленное на основе текста. Воспользовавшись сервисом Word's Cloud мы получили картинку, составленную из ключевых слов, местоположений и слов в тексте. Слова в облаке разного размера и цвета. Размер и цвет зависят от частоты появления данного слова в тексте."
      ]
    },
    {
      "cell_type": "markdown",
      "metadata": {
        "id": "t1DsMeIlq7i3"
      },
      "source": [
        "## Keywords"
      ]
    },
    {
      "cell_type": "code",
      "execution_count": 17,
      "metadata": {
        "colab": {
          "base_uri": "https://localhost:8080/",
          "height": 198
        },
        "id": "QYT23Xe-q9Zb",
        "outputId": "dfce3596-aeb5-414d-ce71-a6c9ebf2ff21"
      },
      "outputs": [
        {
          "output_type": "display_data",
          "data": {
            "text/plain": [
              "<Figure size 432x288 with 1 Axes>"
            ],
            "image/png": "[encoded data removed]"
          },
          "metadata": {
            "needs_background": "light"
          }
        }
      ],
      "source": [
        "text = df_train.query('keyword!=\" \"').keyword.values\n",
        "\n",
        "wordcloud = WordCloud().generate(str(text))\n",
        "\n",
        "plt.imshow(wordcloud)\n",
        "plt.axis(\"off\")\n",
        "plt.show()"
      ]
    },
    {
      "cell_type": "markdown",
      "metadata": {
        "id": "N5Ky1raKrALU"
      },
      "source": [
        "## Locations"
      ]
    },
    {
      "cell_type": "code",
      "execution_count": 18,
      "metadata": {
        "colab": {
          "base_uri": "https://localhost:8080/",
          "height": 198
        },
        "id": "ctPiEQcirB07",
        "outputId": "4e26e774-b9bb-4db9-bc30-f418bda2499b"
      },
      "outputs": [
        {
          "output_type": "display_data",
          "data": {
            "text/plain": [
              "<Figure size 432x288 with 1 Axes>"
            ],
            "image/png": "[encoded data removed]"
          },
          "metadata": {
            "needs_background": "light"
          }
        }
      ],
      "source": [
        "text = df_train.query('location!=\" \"').location.values\n",
        "\n",
        "wordcloud = WordCloud().generate(str(text))\n",
        "\n",
        "plt.imshow(wordcloud)\n",
        "plt.axis(\"off\")\n",
        "plt.show()"
      ]
    },
    {
      "cell_type": "markdown",
      "metadata": {
        "id": "yoMxzWz27RM8"
      },
      "source": [
        "## Text"
      ]
    },
    {
      "cell_type": "code",
      "execution_count": 19,
      "metadata": {
        "colab": {
          "base_uri": "https://localhost:8080/",
          "height": 198
        },
        "id": "SnOhEUUV7JlL",
        "outputId": "4ce6b50a-6894-4acd-9505-0252937f52e9"
      },
      "outputs": [
        {
          "output_type": "display_data",
          "data": {
            "text/plain": [
              "<Figure size 432x288 with 1 Axes>"
            ],
            "image/png": "[encoded data removed]"
          },
          "metadata": {
            "needs_background": "light"
          }
        }
      ],
      "source": [
        "text = df_train.text.values\n",
        "\n",
        "wordcloud = WordCloud().generate(str(text))\n",
        "\n",
        "plt.imshow(wordcloud)\n",
        "plt.axis(\"off\")\n",
        "plt.show()"
      ]
    },
    {
      "cell_type": "markdown",
      "metadata": {
        "id": "3gN5wLUAjjtk"
      },
      "source": [
        "# sklearn.CountVectorize"
      ]
    },
    {
      "cell_type": "markdown",
      "metadata": {
        "id": "HxoWUANW7fgU"
      },
      "source": [
        "## Graphics"
      ]
    },
    {
      "cell_type": "code",
      "execution_count": null,
      "metadata": {
        "colab": {
          "base_uri": "https://localhost:8080/",
          "height": 236
        },
        "id": "TNt162H_jmld",
        "outputId": "e14c5ea8-cc68-4165-b473-40a4d7eb5eb9"
      },
      "outputs": [
        {
          "data": {
            "text/html": [
              "<div>\n",
              "<style scoped>\n",
              "    .dataframe tbody tr th:only-of-type {\n",
              "        vertical-align: middle;\n",
              "    }\n",
              "\n",
              "    .dataframe tbody tr th {\n",
              "        vertical-align: top;\n",
              "    }\n",
              "\n",
              "    .dataframe thead th {\n",
              "        text-align: right;\n",
              "    }\n",
              "</style>\n",
              "<table border=\"1\" class=\"dataframe\">\n",
              "  <thead>\n",
              "    <tr style=\"text-align: right;\">\n",
              "      <th></th>\n",
              "      <th>00</th>\n",
              "      <th>000</th>\n",
              "      <th>0000</th>\n",
              "      <th>00end</th>\n",
              "      <th>00pm</th>\n",
              "      <th>01</th>\n",
              "      <th>02</th>\n",
              "      <th>0215</th>\n",
              "      <th>02pm</th>\n",
              "      <th>03</th>\n",
              "      <th>...</th>\n",
              "      <th>zone</th>\n",
              "      <th>zonewolf123</th>\n",
              "      <th>zoom</th>\n",
              "      <th>zotar</th>\n",
              "      <th>zouma</th>\n",
              "      <th>zrnf</th>\n",
              "      <th>zss</th>\n",
              "      <th>zumiez</th>\n",
              "      <th>zurich</th>\n",
              "      <th>zzzz</th>\n",
              "    </tr>\n",
              "  </thead>\n",
              "  <tbody>\n",
              "    <tr>\n",
              "      <th>0</th>\n",
              "      <td>0</td>\n",
              "      <td>0</td>\n",
              "      <td>0</td>\n",
              "      <td>0</td>\n",
              "      <td>0</td>\n",
              "      <td>0</td>\n",
              "      <td>0</td>\n",
              "      <td>0</td>\n",
              "      <td>0</td>\n",
              "      <td>0</td>\n",
              "      <td>...</td>\n",
              "      <td>0</td>\n",
              "      <td>0</td>\n",
              "      <td>0</td>\n",
              "      <td>0</td>\n",
              "      <td>0</td>\n",
              "      <td>0</td>\n",
              "      <td>0</td>\n",
              "      <td>0</td>\n",
              "      <td>0</td>\n",
              "      <td>0</td>\n",
              "    </tr>\n",
              "    <tr>\n",
              "      <th>1</th>\n",
              "      <td>0</td>\n",
              "      <td>0</td>\n",
              "      <td>0</td>\n",
              "      <td>0</td>\n",
              "      <td>0</td>\n",
              "      <td>0</td>\n",
              "      <td>0</td>\n",
              "      <td>0</td>\n",
              "      <td>0</td>\n",
              "      <td>0</td>\n",
              "      <td>...</td>\n",
              "      <td>0</td>\n",
              "      <td>0</td>\n",
              "      <td>0</td>\n",
              "      <td>0</td>\n",
              "      <td>0</td>\n",
              "      <td>0</td>\n",
              "      <td>0</td>\n",
              "      <td>0</td>\n",
              "      <td>0</td>\n",
              "      <td>0</td>\n",
              "    </tr>\n",
              "    <tr>\n",
              "      <th>2</th>\n",
              "      <td>0</td>\n",
              "      <td>0</td>\n",
              "      <td>0</td>\n",
              "      <td>0</td>\n",
              "      <td>0</td>\n",
              "      <td>0</td>\n",
              "      <td>0</td>\n",
              "      <td>0</td>\n",
              "      <td>0</td>\n",
              "      <td>0</td>\n",
              "      <td>...</td>\n",
              "      <td>0</td>\n",
              "      <td>0</td>\n",
              "      <td>0</td>\n",
              "      <td>0</td>\n",
              "      <td>0</td>\n",
              "      <td>0</td>\n",
              "      <td>0</td>\n",
              "      <td>0</td>\n",
              "      <td>0</td>\n",
              "      <td>0</td>\n",
              "    </tr>\n",
              "    <tr>\n",
              "      <th>3</th>\n",
              "      <td>0</td>\n",
              "      <td>1</td>\n",
              "      <td>0</td>\n",
              "      <td>0</td>\n",
              "      <td>0</td>\n",
              "      <td>0</td>\n",
              "      <td>0</td>\n",
              "      <td>0</td>\n",
              "      <td>0</td>\n",
              "      <td>0</td>\n",
              "      <td>...</td>\n",
              "      <td>0</td>\n",
              "      <td>0</td>\n",
              "      <td>0</td>\n",
              "      <td>0</td>\n",
              "      <td>0</td>\n",
              "      <td>0</td>\n",
              "      <td>0</td>\n",
              "      <td>0</td>\n",
              "      <td>0</td>\n",
              "      <td>0</td>\n",
              "    </tr>\n",
              "    <tr>\n",
              "      <th>4</th>\n",
              "      <td>0</td>\n",
              "      <td>0</td>\n",
              "      <td>0</td>\n",
              "      <td>0</td>\n",
              "      <td>0</td>\n",
              "      <td>0</td>\n",
              "      <td>0</td>\n",
              "      <td>0</td>\n",
              "      <td>0</td>\n",
              "      <td>0</td>\n",
              "      <td>...</td>\n",
              "      <td>0</td>\n",
              "      <td>0</td>\n",
              "      <td>0</td>\n",
              "      <td>0</td>\n",
              "      <td>0</td>\n",
              "      <td>0</td>\n",
              "      <td>0</td>\n",
              "      <td>0</td>\n",
              "      <td>0</td>\n",
              "      <td>0</td>\n",
              "    </tr>\n",
              "    <tr>\n",
              "      <th>...</th>\n",
              "      <td>...</td>\n",
              "      <td>...</td>\n",
              "      <td>...</td>\n",
              "      <td>...</td>\n",
              "      <td>...</td>\n",
              "      <td>...</td>\n",
              "      <td>...</td>\n",
              "      <td>...</td>\n",
              "      <td>...</td>\n",
              "      <td>...</td>\n",
              "      <td>...</td>\n",
              "      <td>...</td>\n",
              "      <td>...</td>\n",
              "      <td>...</td>\n",
              "      <td>...</td>\n",
              "      <td>...</td>\n",
              "      <td>...</td>\n",
              "      <td>...</td>\n",
              "      <td>...</td>\n",
              "      <td>...</td>\n",
              "      <td>...</td>\n",
              "    </tr>\n",
              "    <tr>\n",
              "      <th>7608</th>\n",
              "      <td>0</td>\n",
              "      <td>0</td>\n",
              "      <td>0</td>\n",
              "      <td>0</td>\n",
              "      <td>0</td>\n",
              "      <td>0</td>\n",
              "      <td>0</td>\n",
              "      <td>0</td>\n",
              "      <td>0</td>\n",
              "      <td>0</td>\n",
              "      <td>...</td>\n",
              "      <td>0</td>\n",
              "      <td>0</td>\n",
              "      <td>0</td>\n",
              "      <td>0</td>\n",
              "      <td>0</td>\n",
              "      <td>0</td>\n",
              "      <td>0</td>\n",
              "      <td>0</td>\n",
              "      <td>0</td>\n",
              "      <td>0</td>\n",
              "    </tr>\n",
              "    <tr>\n",
              "      <th>7609</th>\n",
              "      <td>0</td>\n",
              "      <td>0</td>\n",
              "      <td>0</td>\n",
              "      <td>0</td>\n",
              "      <td>0</td>\n",
              "      <td>0</td>\n",
              "      <td>0</td>\n",
              "      <td>0</td>\n",
              "      <td>0</td>\n",
              "      <td>0</td>\n",
              "      <td>...</td>\n",
              "      <td>0</td>\n",
              "      <td>0</td>\n",
              "      <td>0</td>\n",
              "      <td>0</td>\n",
              "      <td>0</td>\n",
              "      <td>0</td>\n",
              "      <td>0</td>\n",
              "      <td>0</td>\n",
              "      <td>0</td>\n",
              "      <td>0</td>\n",
              "    </tr>\n",
              "    <tr>\n",
              "      <th>7610</th>\n",
              "      <td>0</td>\n",
              "      <td>0</td>\n",
              "      <td>0</td>\n",
              "      <td>0</td>\n",
              "      <td>0</td>\n",
              "      <td>1</td>\n",
              "      <td>0</td>\n",
              "      <td>0</td>\n",
              "      <td>0</td>\n",
              "      <td>0</td>\n",
              "      <td>...</td>\n",
              "      <td>0</td>\n",
              "      <td>0</td>\n",
              "      <td>0</td>\n",
              "      <td>0</td>\n",
              "      <td>0</td>\n",
              "      <td>0</td>\n",
              "      <td>0</td>\n",
              "      <td>0</td>\n",
              "      <td>0</td>\n",
              "      <td>0</td>\n",
              "    </tr>\n",
              "    <tr>\n",
              "      <th>7611</th>\n",
              "      <td>0</td>\n",
              "      <td>0</td>\n",
              "      <td>0</td>\n",
              "      <td>0</td>\n",
              "      <td>0</td>\n",
              "      <td>0</td>\n",
              "      <td>0</td>\n",
              "      <td>0</td>\n",
              "      <td>0</td>\n",
              "      <td>0</td>\n",
              "      <td>...</td>\n",
              "      <td>0</td>\n",
              "      <td>0</td>\n",
              "      <td>0</td>\n",
              "      <td>0</td>\n",
              "      <td>0</td>\n",
              "      <td>0</td>\n",
              "      <td>0</td>\n",
              "      <td>0</td>\n",
              "      <td>0</td>\n",
              "      <td>0</td>\n",
              "    </tr>\n",
              "    <tr>\n",
              "      <th>7612</th>\n",
              "      <td>0</td>\n",
              "      <td>0</td>\n",
              "      <td>0</td>\n",
              "      <td>0</td>\n",
              "      <td>0</td>\n",
              "      <td>0</td>\n",
              "      <td>0</td>\n",
              "      <td>0</td>\n",
              "      <td>0</td>\n",
              "      <td>0</td>\n",
              "      <td>...</td>\n",
              "      <td>0</td>\n",
              "      <td>0</td>\n",
              "      <td>0</td>\n",
              "      <td>0</td>\n",
              "      <td>0</td>\n",
              "      <td>0</td>\n",
              "      <td>0</td>\n",
              "      <td>0</td>\n",
              "      <td>0</td>\n",
              "      <td>0</td>\n",
              "    </tr>\n",
              "  </tbody>\n",
              "</table>\n",
              "<p>7613 rows × 14384 columns</p>\n",
              "</div>"
            ],
            "text/plain": [
              "      00  000  0000  00end  00pm  01  02  0215  02pm  03  ...  zone  \\\n",
              "0      0    0     0      0     0   0   0     0     0   0  ...     0   \n",
              "1      0    0     0      0     0   0   0     0     0   0  ...     0   \n",
              "2      0    0     0      0     0   0   0     0     0   0  ...     0   \n",
              "3      0    1     0      0     0   0   0     0     0   0  ...     0   \n",
              "4      0    0     0      0     0   0   0     0     0   0  ...     0   \n",
              "...   ..  ...   ...    ...   ...  ..  ..   ...   ...  ..  ...   ...   \n",
              "7608   0    0     0      0     0   0   0     0     0   0  ...     0   \n",
              "7609   0    0     0      0     0   0   0     0     0   0  ...     0   \n",
              "7610   0    0     0      0     0   1   0     0     0   0  ...     0   \n",
              "7611   0    0     0      0     0   0   0     0     0   0  ...     0   \n",
              "7612   0    0     0      0     0   0   0     0     0   0  ...     0   \n",
              "\n",
              "      zonewolf123  zoom  zotar  zouma  zrnf  zss  zumiez  zurich  zzzz  \n",
              "0               0     0      0      0     0    0       0       0     0  \n",
              "1               0     0      0      0     0    0       0       0     0  \n",
              "2               0     0      0      0     0    0       0       0     0  \n",
              "3               0     0      0      0     0    0       0       0     0  \n",
              "4               0     0      0      0     0    0       0       0     0  \n",
              "...           ...   ...    ...    ...   ...  ...     ...     ...   ...  \n",
              "7608            0     0      0      0     0    0       0       0     0  \n",
              "7609            0     0      0      0     0    0       0       0     0  \n",
              "7610            0     0      0      0     0    0       0       0     0  \n",
              "7611            0     0      0      0     0    0       0       0     0  \n",
              "7612            0     0      0      0     0    0       0       0     0  \n",
              "\n",
              "[7613 rows x 14384 columns]"
            ]
          },
          "execution_count": 21,
          "metadata": {},
          "output_type": "execute_result"
        }
      ],
      "source": [
        "count_vectorizer = feature_extraction.text.CountVectorizer()\n",
        "\n",
        "train_vectors = count_vectorizer.fit_transform(df_train[\"text\"])\n",
        "features = count_vectorizer.get_feature_names_out()\n",
        "\n",
        "train_vectors_df = pd.DataFrame(train_vectors.todense())\n",
        "train_vectors_df = train_vectors_df.rename(columns={i: features[i] for i in range(len(features))})\n",
        "train_vectors_df"
      ]
    },
    {
      "cell_type": "code",
      "execution_count": null,
      "metadata": {
        "colab": {
          "base_uri": "https://localhost:8080/",
          "height": 689
        },
        "id": "8H-z8H1gkRrd",
        "outputId": "3b85d231-c0d9-4dcd-e521-12d1804638f1"
      },
      "outputs": [
        {
          "data": {
            "text/plain": [
              "Text(0, 0.5, 'Частота')"
            ]
          },
          "execution_count": 22,
          "metadata": {},
          "output_type": "execute_result"
        },
        {
          "data": {
            "image/png": "[encoded data removed]",
            "text/plain": [
              "<Figure size 640x480 with 1 Axes>"
            ]
          },
          "metadata": {},
          "output_type": "display_data"
        }
      ],
      "source": [
        "pd.DataFrame(train_vectors.sum(axis=0).T,\n",
        "             index=count_vectorizer.get_feature_names_out(),\n",
        "             columns=['Частота']).sort_values(by='Частота',\n",
        "                                           ascending=False).head(20) \\\n",
        "             .plot(kind='bar',title=\"Частота слов из словаря для тренировочных данных\")\n",
        "plt.xlabel('Слова')\n",
        "plt.ylabel('Частота')"
      ]
    },
    {
      "cell_type": "markdown",
      "metadata": {
        "id": "Vi_KfBYz7fgV"
      },
      "source": [
        "График демонстрирует распределение частоты слов в предложениях в тренировочных данных на основе построенной матрицы с помощью CountVectorizer"
      ]
    },
    {
      "cell_type": "code",
      "execution_count": null,
      "metadata": {
        "colab": {
          "base_uri": "https://localhost:8080/",
          "height": 236
        },
        "id": "nElk0rlvj228",
        "outputId": "24e2f117-07c2-47fa-a3d6-d1fc17576f18"
      },
      "outputs": [
        {
          "data": {
            "text/html": [
              "<div>\n",
              "<style scoped>\n",
              "    .dataframe tbody tr th:only-of-type {\n",
              "        vertical-align: middle;\n",
              "    }\n",
              "\n",
              "    .dataframe tbody tr th {\n",
              "        vertical-align: top;\n",
              "    }\n",
              "\n",
              "    .dataframe thead th {\n",
              "        text-align: right;\n",
              "    }\n",
              "</style>\n",
              "<table border=\"1\" class=\"dataframe\">\n",
              "  <thead>\n",
              "    <tr style=\"text-align: right;\">\n",
              "      <th></th>\n",
              "      <th>00</th>\n",
              "      <th>000</th>\n",
              "      <th>0000</th>\n",
              "      <th>00am</th>\n",
              "      <th>00pm</th>\n",
              "      <th>01</th>\n",
              "      <th>02</th>\n",
              "      <th>02pm</th>\n",
              "      <th>03</th>\n",
              "      <th>032</th>\n",
              "      <th>...</th>\n",
              "      <th>zionist</th>\n",
              "      <th>zippers</th>\n",
              "      <th>zirngast</th>\n",
              "      <th>zix</th>\n",
              "      <th>zombie</th>\n",
              "      <th>zone</th>\n",
              "      <th>zouis</th>\n",
              "      <th>zouma</th>\n",
              "      <th>zuma</th>\n",
              "      <th>zx</th>\n",
              "    </tr>\n",
              "  </thead>\n",
              "  <tbody>\n",
              "    <tr>\n",
              "      <th>0</th>\n",
              "      <td>0</td>\n",
              "      <td>0</td>\n",
              "      <td>0</td>\n",
              "      <td>0</td>\n",
              "      <td>0</td>\n",
              "      <td>0</td>\n",
              "      <td>0</td>\n",
              "      <td>0</td>\n",
              "      <td>0</td>\n",
              "      <td>0</td>\n",
              "      <td>...</td>\n",
              "      <td>0</td>\n",
              "      <td>0</td>\n",
              "      <td>0</td>\n",
              "      <td>0</td>\n",
              "      <td>0</td>\n",
              "      <td>0</td>\n",
              "      <td>0</td>\n",
              "      <td>0</td>\n",
              "      <td>0</td>\n",
              "      <td>0</td>\n",
              "    </tr>\n",
              "    <tr>\n",
              "      <th>1</th>\n",
              "      <td>0</td>\n",
              "      <td>0</td>\n",
              "      <td>0</td>\n",
              "      <td>0</td>\n",
              "      <td>0</td>\n",
              "      <td>0</td>\n",
              "      <td>0</td>\n",
              "      <td>0</td>\n",
              "      <td>0</td>\n",
              "      <td>0</td>\n",
              "      <td>...</td>\n",
              "      <td>0</td>\n",
              "      <td>0</td>\n",
              "      <td>0</td>\n",
              "      <td>0</td>\n",
              "      <td>0</td>\n",
              "      <td>0</td>\n",
              "      <td>0</td>\n",
              "      <td>0</td>\n",
              "      <td>0</td>\n",
              "      <td>0</td>\n",
              "    </tr>\n",
              "    <tr>\n",
              "      <th>2</th>\n",
              "      <td>0</td>\n",
              "      <td>0</td>\n",
              "      <td>0</td>\n",
              "      <td>0</td>\n",
              "      <td>0</td>\n",
              "      <td>0</td>\n",
              "      <td>0</td>\n",
              "      <td>0</td>\n",
              "      <td>0</td>\n",
              "      <td>0</td>\n",
              "      <td>...</td>\n",
              "      <td>0</td>\n",
              "      <td>0</td>\n",
              "      <td>0</td>\n",
              "      <td>0</td>\n",
              "      <td>0</td>\n",
              "      <td>0</td>\n",
              "      <td>0</td>\n",
              "      <td>0</td>\n",
              "      <td>0</td>\n",
              "      <td>0</td>\n",
              "    </tr>\n",
              "    <tr>\n",
              "      <th>3</th>\n",
              "      <td>0</td>\n",
              "      <td>0</td>\n",
              "      <td>0</td>\n",
              "      <td>0</td>\n",
              "      <td>0</td>\n",
              "      <td>0</td>\n",
              "      <td>0</td>\n",
              "      <td>0</td>\n",
              "      <td>0</td>\n",
              "      <td>0</td>\n",
              "      <td>...</td>\n",
              "      <td>0</td>\n",
              "      <td>0</td>\n",
              "      <td>0</td>\n",
              "      <td>0</td>\n",
              "      <td>0</td>\n",
              "      <td>0</td>\n",
              "      <td>0</td>\n",
              "      <td>0</td>\n",
              "      <td>0</td>\n",
              "      <td>0</td>\n",
              "    </tr>\n",
              "    <tr>\n",
              "      <th>4</th>\n",
              "      <td>0</td>\n",
              "      <td>0</td>\n",
              "      <td>0</td>\n",
              "      <td>0</td>\n",
              "      <td>0</td>\n",
              "      <td>0</td>\n",
              "      <td>0</td>\n",
              "      <td>0</td>\n",
              "      <td>0</td>\n",
              "      <td>0</td>\n",
              "      <td>...</td>\n",
              "      <td>0</td>\n",
              "      <td>0</td>\n",
              "      <td>0</td>\n",
              "      <td>0</td>\n",
              "      <td>0</td>\n",
              "      <td>0</td>\n",
              "      <td>0</td>\n",
              "      <td>0</td>\n",
              "      <td>0</td>\n",
              "      <td>0</td>\n",
              "    </tr>\n",
              "    <tr>\n",
              "      <th>...</th>\n",
              "      <td>...</td>\n",
              "      <td>...</td>\n",
              "      <td>...</td>\n",
              "      <td>...</td>\n",
              "      <td>...</td>\n",
              "      <td>...</td>\n",
              "      <td>...</td>\n",
              "      <td>...</td>\n",
              "      <td>...</td>\n",
              "      <td>...</td>\n",
              "      <td>...</td>\n",
              "      <td>...</td>\n",
              "      <td>...</td>\n",
              "      <td>...</td>\n",
              "      <td>...</td>\n",
              "      <td>...</td>\n",
              "      <td>...</td>\n",
              "      <td>...</td>\n",
              "      <td>...</td>\n",
              "      <td>...</td>\n",
              "      <td>...</td>\n",
              "    </tr>\n",
              "    <tr>\n",
              "      <th>3258</th>\n",
              "      <td>0</td>\n",
              "      <td>0</td>\n",
              "      <td>0</td>\n",
              "      <td>0</td>\n",
              "      <td>0</td>\n",
              "      <td>0</td>\n",
              "      <td>0</td>\n",
              "      <td>0</td>\n",
              "      <td>0</td>\n",
              "      <td>0</td>\n",
              "      <td>...</td>\n",
              "      <td>0</td>\n",
              "      <td>0</td>\n",
              "      <td>0</td>\n",
              "      <td>0</td>\n",
              "      <td>0</td>\n",
              "      <td>0</td>\n",
              "      <td>0</td>\n",
              "      <td>0</td>\n",
              "      <td>0</td>\n",
              "      <td>0</td>\n",
              "    </tr>\n",
              "    <tr>\n",
              "      <th>3259</th>\n",
              "      <td>0</td>\n",
              "      <td>0</td>\n",
              "      <td>0</td>\n",
              "      <td>0</td>\n",
              "      <td>0</td>\n",
              "      <td>0</td>\n",
              "      <td>0</td>\n",
              "      <td>0</td>\n",
              "      <td>0</td>\n",
              "      <td>0</td>\n",
              "      <td>...</td>\n",
              "      <td>0</td>\n",
              "      <td>0</td>\n",
              "      <td>0</td>\n",
              "      <td>0</td>\n",
              "      <td>0</td>\n",
              "      <td>0</td>\n",
              "      <td>0</td>\n",
              "      <td>0</td>\n",
              "      <td>0</td>\n",
              "      <td>0</td>\n",
              "    </tr>\n",
              "    <tr>\n",
              "      <th>3260</th>\n",
              "      <td>0</td>\n",
              "      <td>0</td>\n",
              "      <td>0</td>\n",
              "      <td>0</td>\n",
              "      <td>0</td>\n",
              "      <td>0</td>\n",
              "      <td>0</td>\n",
              "      <td>0</td>\n",
              "      <td>0</td>\n",
              "      <td>0</td>\n",
              "      <td>...</td>\n",
              "      <td>0</td>\n",
              "      <td>0</td>\n",
              "      <td>0</td>\n",
              "      <td>0</td>\n",
              "      <td>0</td>\n",
              "      <td>0</td>\n",
              "      <td>0</td>\n",
              "      <td>0</td>\n",
              "      <td>0</td>\n",
              "      <td>0</td>\n",
              "    </tr>\n",
              "    <tr>\n",
              "      <th>3261</th>\n",
              "      <td>0</td>\n",
              "      <td>0</td>\n",
              "      <td>0</td>\n",
              "      <td>0</td>\n",
              "      <td>0</td>\n",
              "      <td>0</td>\n",
              "      <td>0</td>\n",
              "      <td>0</td>\n",
              "      <td>0</td>\n",
              "      <td>0</td>\n",
              "      <td>...</td>\n",
              "      <td>0</td>\n",
              "      <td>0</td>\n",
              "      <td>0</td>\n",
              "      <td>0</td>\n",
              "      <td>0</td>\n",
              "      <td>0</td>\n",
              "      <td>0</td>\n",
              "      <td>0</td>\n",
              "      <td>0</td>\n",
              "      <td>0</td>\n",
              "    </tr>\n",
              "    <tr>\n",
              "      <th>3262</th>\n",
              "      <td>0</td>\n",
              "      <td>0</td>\n",
              "      <td>0</td>\n",
              "      <td>0</td>\n",
              "      <td>0</td>\n",
              "      <td>0</td>\n",
              "      <td>0</td>\n",
              "      <td>0</td>\n",
              "      <td>0</td>\n",
              "      <td>0</td>\n",
              "      <td>...</td>\n",
              "      <td>0</td>\n",
              "      <td>0</td>\n",
              "      <td>0</td>\n",
              "      <td>0</td>\n",
              "      <td>0</td>\n",
              "      <td>0</td>\n",
              "      <td>0</td>\n",
              "      <td>0</td>\n",
              "      <td>0</td>\n",
              "      <td>0</td>\n",
              "    </tr>\n",
              "  </tbody>\n",
              "</table>\n",
              "<p>3263 rows × 8844 columns</p>\n",
              "</div>"
            ],
            "text/plain": [
              "      00  000  0000  00am  00pm  01  02  02pm  03  032  ...  zionist  zippers  \\\n",
              "0      0    0     0     0     0   0   0     0   0    0  ...        0        0   \n",
              "1      0    0     0     0     0   0   0     0   0    0  ...        0        0   \n",
              "2      0    0     0     0     0   0   0     0   0    0  ...        0        0   \n",
              "3      0    0     0     0     0   0   0     0   0    0  ...        0        0   \n",
              "4      0    0     0     0     0   0   0     0   0    0  ...        0        0   \n",
              "...   ..  ...   ...   ...   ...  ..  ..   ...  ..  ...  ...      ...      ...   \n",
              "3258   0    0     0     0     0   0   0     0   0    0  ...        0        0   \n",
              "3259   0    0     0     0     0   0   0     0   0    0  ...        0        0   \n",
              "3260   0    0     0     0     0   0   0     0   0    0  ...        0        0   \n",
              "3261   0    0     0     0     0   0   0     0   0    0  ...        0        0   \n",
              "3262   0    0     0     0     0   0   0     0   0    0  ...        0        0   \n",
              "\n",
              "      zirngast  zix  zombie  zone  zouis  zouma  zuma  zx  \n",
              "0            0    0       0     0      0      0     0   0  \n",
              "1            0    0       0     0      0      0     0   0  \n",
              "2            0    0       0     0      0      0     0   0  \n",
              "3            0    0       0     0      0      0     0   0  \n",
              "4            0    0       0     0      0      0     0   0  \n",
              "...        ...  ...     ...   ...    ...    ...   ...  ..  \n",
              "3258         0    0       0     0      0      0     0   0  \n",
              "3259         0    0       0     0      0      0     0   0  \n",
              "3260         0    0       0     0      0      0     0   0  \n",
              "3261         0    0       0     0      0      0     0   0  \n",
              "3262         0    0       0     0      0      0     0   0  \n",
              "\n",
              "[3263 rows x 8844 columns]"
            ]
          },
          "execution_count": 23,
          "metadata": {},
          "output_type": "execute_result"
        }
      ],
      "source": [
        "test_vectors = count_vectorizer.transform(df_test[\"text\"])\n",
        "features = count_vectorizer.get_feature_names_out()\n",
        "test_vectors_df = pd.DataFrame(test_vectors.todense())\n",
        "test_vectors_df = test_vectors_df.rename(columns={i: features[i] for i in range(len(features))})\n",
        "test_vectors_df"
      ]
    },
    {
      "cell_type": "code",
      "execution_count": null,
      "metadata": {
        "colab": {
          "base_uri": "https://localhost:8080/",
          "height": 689
        },
        "id": "0npy1wB5k7I6",
        "outputId": "5598459d-73b8-4544-9a29-2319c8d66a98"
      },
      "outputs": [
        {
          "data": {
            "text/plain": [
              "Text(0, 0.5, 'Частота')"
            ]
          },
          "execution_count": 25,
          "metadata": {},
          "output_type": "execute_result"
        },
        {
          "data": {
            "image/png": "[encoded data removed]",
            "text/plain": [
              "<Figure size 640x480 with 1 Axes>"
            ]
          },
          "metadata": {},
          "output_type": "display_data"
        }
      ],
      "source": [
        "pd.DataFrame(test_vectors_df.sum(axis=0).T,\n",
        "             index=count_vectorizer.get_feature_names_out(),\n",
        "             columns=['Частота']).sort_values(by='Частота',\n",
        "                                           ascending=False).head(20) \\\n",
        "             .plot(kind='bar',title=\"Частота слов из словаря для тестовых данных\")\n",
        "plt.xlabel('Слова')\n",
        "plt.ylabel('Частота')"
      ]
    },
    {
      "cell_type": "markdown",
      "metadata": {
        "id": "rh5vJCBf7fgX"
      },
      "source": [
        "График демонстрирует распределение частоты слов в предложениях в тестовых данных на основе построенной матрицы с помощью CountVectorizer"
      ]
    },
    {
      "cell_type": "markdown",
      "metadata": {
        "id": "qIBMmBXI7fgX"
      },
      "source": [
        "## PCA"
      ]
    },
    {
      "cell_type": "code",
      "execution_count": 20,
      "metadata": {
        "id": "5tMuFPTd7fgX"
      },
      "outputs": [],
      "source": [
        "def cv(data):\n",
        "    count_vectorizer = CountVectorizer()\n",
        "    emb = count_vectorizer.fit_transform(data)\n",
        "    return emb"
      ]
    },
    {
      "cell_type": "code",
      "execution_count": 21,
      "metadata": {
        "id": "7MC7468L7fgX"
      },
      "outputs": [],
      "source": [
        "def plot_LSA(test_data, test_labels, savepath=\"PCA_data.csv\", plot=True):\n",
        "        lsa = TruncatedSVD(n_components=2)\n",
        "        lsa.fit(test_data)\n",
        "        lsa_scores = lsa.transform(test_data)\n",
        "        color_mapper = {label:idx for idx,label in enumerate(set(test_labels))}\n",
        "        color_column = [color_mapper[label] for label in test_labels]\n",
        "        colors = ['orange','blue']\n",
        "        if plot:\n",
        "            plt.scatter(lsa_scores[:,0], lsa_scores[:,1], s=8, alpha=.8, c=test_labels, cmap=matplotlib.colors.ListedColormap(colors))\n",
        "            orange_patch = mpatches.Patch(color='orange', label='Not')\n",
        "            blue_patch = mpatches.Patch(color='blue', label='Real')\n",
        "            plt.legend(handles=[orange_patch, blue_patch], prop={'size': 30})"
      ]
    },
    {
      "cell_type": "code",
      "execution_count": 22,
      "metadata": {
        "colab": {
          "base_uri": "https://localhost:8080/",
          "height": 918
        },
        "id": "4uCLTPpq7fgY",
        "outputId": "ec7f0086-cb3a-43a3-ee96-edca41febfa5"
      },
      "outputs": [
        {
          "output_type": "display_data",
          "data": {
            "text/plain": [
              "<Figure size 1152x1152 with 1 Axes>"
            ],
            "image/png": "[encoded data removed]"
          },
          "metadata": {
            "needs_background": "light"
          }
        }
      ],
      "source": [
        "train_counts = cv(df_train.text)\n",
        "train_labels = df_train.target.values\n",
        "fig = plt.figure(figsize=(16, 16))          \n",
        "plot_LSA(train_counts, train_labels)\n",
        "plt.show()"
      ]
    },
    {
      "cell_type": "markdown",
      "metadata": {
        "id": "jqvTIA1-7fgY"
      },
      "source": [
        "График, отображающий схожесть векторов и выражений"
      ]
    },
    {
      "cell_type": "markdown",
      "metadata": {
        "id": "zRtC8jOvOJpN"
      },
      "source": [
        "# TF-IDF"
      ]
    },
    {
      "cell_type": "markdown",
      "metadata": {
        "id": "H9dXSZ0N7fgY"
      },
      "source": [
        "Подход чем то похож на CountVectorize, только здесь для каждого токена используется метрика\n",
        "TF-IDF. \n",
        "\n",
        "- Частота слова (Term Frequency) — подсчитывает, как часто выбранное слово появляется в документе.\n",
        "\n",
        "- Обратная частота документа (Inverse Document Frequency) — снижает вес слов, которые часто встречаются в документах."
      ]
    },
    {
      "cell_type": "code",
      "execution_count": 23,
      "metadata": {
        "id": "4wl9DbfZyHvq"
      },
      "outputs": [],
      "source": [
        "train_text = df_train['text']\n",
        "test_text = df_test['text']\n",
        "summary_text = pd.concat([train_text, test_text])"
      ]
    },
    {
      "cell_type": "code",
      "execution_count": 24,
      "metadata": {
        "id": "c5744TxUyJki"
      },
      "outputs": [],
      "source": [
        "word_vectorizer = TfidfVectorizer(\n",
        "    sublinear_tf=True,\n",
        "    strip_accents='unicode',\n",
        "    analyzer='word',\n",
        "    token_pattern=r'\\w{1,}',\n",
        "    stop_words='english',\n",
        "    ngram_range=(1, 1),\n",
        "    max_features=10000)\n",
        "word_vectorizer.fit(summary_text)\n",
        "train_word_features = word_vectorizer.transform(train_text)\n",
        "test_word_features = word_vectorizer.transform(test_text)"
      ]
    },
    {
      "cell_type": "code",
      "execution_count": 25,
      "metadata": {
        "id": "NMrlGE8RyRCW"
      },
      "outputs": [],
      "source": [
        "char_vectorizer = TfidfVectorizer(\n",
        "    sublinear_tf=True,\n",
        "    strip_accents='unicode',\n",
        "    analyzer='char',\n",
        "    ngram_range=(2, 6),\n",
        "    max_features=50000)\n",
        "char_vectorizer.fit(summary_text)\n",
        "train_char_features = char_vectorizer.transform(train_text)\n",
        "test_char_features = char_vectorizer.transform(test_text)"
      ]
    },
    {
      "cell_type": "code",
      "execution_count": 26,
      "metadata": {
        "id": "o3m8AT1qyaI1"
      },
      "outputs": [],
      "source": [
        "train_features = hstack([train_char_features, train_word_features])\n",
        "test_features = hstack([test_char_features, test_word_features])"
      ]
    },
    {
      "cell_type": "code",
      "execution_count": 27,
      "metadata": {
        "colab": {
          "base_uri": "https://localhost:8080/"
        },
        "id": "1X97MWlRye33",
        "outputId": "bf69a852-5de4-46bd-bfc4-8d5c506c09d2"
      },
      "outputs": [
        {
          "output_type": "execute_result",
          "data": {
            "text/plain": [
              "array([[0.        , 0.        , 0.        , ..., 0.        , 0.        ,\n",
              "        0.        ],\n",
              "       [0.        , 0.        , 0.        , ..., 0.        , 0.        ,\n",
              "        0.        ],\n",
              "       [0.        , 0.        , 0.        , ..., 0.        , 0.        ,\n",
              "        0.        ],\n",
              "       ...,\n",
              "       [0.11683182, 0.        , 0.        , ..., 0.        , 0.        ,\n",
              "        0.        ],\n",
              "       [0.        , 0.        , 0.        , ..., 0.        , 0.        ,\n",
              "        0.        ],\n",
              "       [0.        , 0.        , 0.        , ..., 0.        , 0.        ,\n",
              "        0.        ]])"
            ]
          },
          "metadata": {},
          "execution_count": 27
        }
      ],
      "source": [
        "train_features.toarray()"
      ]
    },
    {
      "cell_type": "code",
      "execution_count": null,
      "metadata": {
        "colab": {
          "base_uri": "https://localhost:8080/"
        },
        "id": "CnF9FJtzyk7r",
        "outputId": "af1caf9c-ac42-4aba-a556-66b3098dc865"
      },
      "outputs": [
        {
          "name": "stdout",
          "output_type": "stream",
          "text": [
            "Fitting fold 1\n",
            "Fitting fold 2\n"
          ]
        }
      ],
      "source": [
        "train_oof = np.zeros(df_train.shape[0],)\n",
        "kf = KFold(n_splits=5, random_state=137, shuffle=True)\n",
        "test_preds = 0\n",
        "\n",
        "for jj, (train_index, val_index) in enumerate(kf.split(train_features)):\n",
        "        print(\"Fitting fold\", jj+1)\n",
        "        train_x = train_features.toarray()[train_index]\n",
        "        val_x = train_features.toarray()[val_index]\n",
        "        train_target = df_train['target'].values[train_index]\n",
        "        classifier = LogisticRegression(solver='sag')\n",
        "        classifier.fit(train_x, train_target)\n",
        "        train_oof[val_index] = classifier.predict_proba(val_x)[:,1]\n",
        "        test_preds += classifier.predict_proba(test_features)[:,1]/5\n",
        "        \n",
        "print(roc_auc_score(df_train['target'].values, train_oof))"
      ]
    },
    {
      "cell_type": "code",
      "execution_count": null,
      "metadata": {
        "id": "ueyqDQYez3UL"
      },
      "outputs": [],
      "source": [
        "submission = pd.read_csv('sample_submission.csv')\n",
        "submission.head()"
      ]
    },
    {
      "cell_type": "code",
      "execution_count": null,
      "metadata": {
        "id": "7pt8HNBWz-iE",
        "outputId": "02c88698-4d84-4d64-9fef-92fbe943ee60"
      },
      "outputs": [
        {
          "ename": "NameError",
          "evalue": "name 'test_preds' is not defined",
          "output_type": "error",
          "traceback": [
            "\u001b[0;31m---------------------------------------------------------------------------\u001b[0m",
            "\u001b[0;31mNameError\u001b[0m                                 Traceback (most recent call last)",
            "Input \u001b[0;32mIn [85]\u001b[0m, in \u001b[0;36m<cell line: 1>\u001b[0;34m()\u001b[0m\n\u001b[0;32m----> 1\u001b[0m submission[\u001b[38;5;124m'\u001b[39m\u001b[38;5;124mtarget\u001b[39m\u001b[38;5;124m'\u001b[39m] \u001b[38;5;241m=\u001b[39m \u001b[38;5;241m1\u001b[39m\u001b[38;5;241m*\u001b[39m(\u001b[43mtest_preds\u001b[49m \u001b[38;5;241m>\u001b[39m \u001b[38;5;241m0.5\u001b[39m)\n\u001b[1;32m      2\u001b[0m submission\u001b[38;5;241m.\u001b[39mhead()\n",
            "\u001b[0;31mNameError\u001b[0m: name 'test_preds' is not defined"
          ]
        }
      ],
      "source": [
        "submission['target'] = 1*(test_preds > 0.5)\n",
        "submission.head()"
      ]
    },
    {
      "cell_type": "markdown",
      "metadata": {
        "id": "gua3lAC_7fgb"
      },
      "source": [
        "## Metrics"
      ]
    },
    {
      "cell_type": "code",
      "execution_count": null,
      "metadata": {
        "id": "x9AnmfJ07fgb"
      },
      "outputs": [],
      "source": [
        "print(\"RECALL:\", recall_score(y_true=df_train['target'],\n",
        "                              y_pred=pd.Series(1*(train_oof > 0.5))),\n",
        "      )\n",
        "print(\"ROC_AUC:\", roc_auc_score(df_train['target'].values, train_oof))"
      ]
    },
    {
      "cell_type": "markdown",
      "metadata": {
        "id": "cMkt9PR-7fgb"
      },
      "source": [
        "Для данной задачи наиболее интересны метрики Recall и Roc Auc Score. Ведь нам важно определить \n",
        "как можно больше бедствий из твитов, и не так страшно, если какой то твит будет опознан ложно положительно.\n",
        "Ведь страшнее не узнать о катастрофе, чем получить ложную тревогу.\n",
        "\n",
        "Вот наши результаты по метрикам:\n",
        "*RECALL:* 0.6961173952919596\n",
        "*ROC_AUC:* 0.8675331884498999"
      ]
    }
  ],
  "metadata": {
    "colab": {
      "collapsed_sections": [
        "aEGaPVsu_F-r"
      ],
      "provenance": []
    },
    "kernelspec": {
      "display_name": "Python 3.9.13 64-bit (microsoft store)",
      "language": "python",
      "name": "python3"
    },
    "language_info": {
      "codemirror_mode": {
        "name": "ipython",
        "version": 3
      },
      "file_extension": ".py",
      "mimetype": "text/x-python",
      "name": "python",
      "nbconvert_exporter": "python",
      "pygments_lexer": "ipython3",
      "version": "3.9.13"
    },
    "varInspector": {
      "cols": {
        "lenName": 16,
        "lenType": 16,
        "lenVar": 40
      },
      "kernels_config": {
        "python": {
          "delete_cmd_postfix": "",
          "delete_cmd_prefix": "del ",
          "library": "var_list.py",
          "varRefreshCmd": "print(var_dic_list())"
        },
        "r": {
          "delete_cmd_postfix": ") ",
          "delete_cmd_prefix": "rm(",
          "library": "var_list.r",
          "varRefreshCmd": "cat(var_dic_list()) "
        }
      },
      "types_to_exclude": [
        "module",
        "function",
        "builtin_function_or_method",
        "instance",
        "_Feature"
      ],
      "window_display": false
    },
    "vscode": {
      "interpreter": {
        "hash": "b28d1757a790fe3d6efa9e52fbe864a6198183c15b8fda8f4648b02f4e9cb71c"
      }
    }
  },
  "nbformat": 4,
  "nbformat_minor": 0
}